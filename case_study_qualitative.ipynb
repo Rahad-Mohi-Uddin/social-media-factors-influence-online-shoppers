{
 "cells": [
  {
   "cell_type": "markdown",
   "id": "c0b7ad62-f4a9-4ebc-831f-953a36b75259",
   "metadata": {},
   "source": [
    "<b>Importing necessary library.</b>"
   ]
  },
  {
   "cell_type": "code",
   "execution_count": 2,
   "id": "1446c800-cca6-4dc7-a2da-f245d1fe1e8d",
   "metadata": {},
   "outputs": [],
   "source": [
    "import pandas as pd \n",
    "import numpy as np \n",
    "import string\n",
    "\n",
    "import csv\n",
    "from collections import Counter\n",
    "import speech_recognition as sr\n",
    "import nltk \n",
    "from nltk.tokenize import word_tokenize\n",
    "from nltk.tokenize import sent_tokenize\n",
    "from nltk.corpus import stopwords\n",
    "from nltk.stem.porter import PorterStemmer\n",
    "from nltk.stem.wordnet import WordNetLemmatizer \n",
    "import re \n",
    "\n",
    "%matplotlib inline\n",
    "import matplotlib.pyplot as plt\n",
    "import seaborn as sns\n",
    "\n",
    "import warnings\n",
    "warnings.filterwarnings('ignore')"
   ]
  },
  {
   "cell_type": "code",
   "execution_count": 3,
   "id": "40d075b5-f2f6-4f2e-9ece-d4b4a1715879",
   "metadata": {},
   "outputs": [],
   "source": [
    "#creating a list to store all the audio file\n",
    "audio_links=[]\n",
    "\n",
    "#assigning all the audio to different variable names\n",
    "link_01=\"Data/case_study_audio/Inter. 01 20220701-000141.wav\"\n",
    "link_02=\"Data/case_study_audio/Inter. 02 20220701-000223.wav\"\n",
    "link_03=\"Data/case_study_audio/Inter. 03 20220701-000255.wav\"\n",
    "link_04=\"Data/case_study_audio/Inter. 04 20220701-000322.wav\"\n",
    "link_05=\"Data/case_study_audio/Inter. 05 20220701-000345.wav\"\n",
    "\n",
    "#adding the audio files to the audio_links list\n",
    "audio_links.append(link_01)\n",
    "audio_links.append(link_02)\n",
    "audio_links.append(link_03)\n",
    "audio_links.append(link_04)\n",
    "audio_links.append(link_05)"
   ]
  },
  {
   "cell_type": "code",
   "execution_count": 4,
   "id": "6012d2c6-5849-45c6-ada8-99b9da30ddab",
   "metadata": {},
   "outputs": [],
   "source": [
    "#initialize the recognizer \n",
    "r=sr.Recognizer()\n",
    "\n",
    "#creating a list to store all the interview text\n",
    "interview_list=[]\n",
    "\n",
    "#run a loop over the audio_links list\n",
    "for filename in audio_links:\n",
    "    \n",
    "    #coverting the audio file into text\n",
    "    with sr.AudioFile(filename) as source:\n",
    "        audio_data=r.record(source)\n",
    "        text=r.recognize_google(audio_data)\n",
    "        \n",
    "        #append the text file into the interview list\n",
    "        interview_list.append(text)"
   ]
  },
  {
   "cell_type": "code",
   "execution_count": 5,
   "id": "f68bad2e-b985-40e0-ae7b-61d2bee0a8b6",
   "metadata": {},
   "outputs": [],
   "source": [
    "#now load the dataset collected from news,blog,research paper and survey\n",
    "survey_df=pd.read_csv(\"Data/case_study_data_01/data_survey_response.csv\")\n",
    "research_df=pd.read_csv(\"Data/case_study_data_01/data_research paper.csv\")\n",
    "news_df=pd.read_csv(\"Data/case_study_data_01/data_news_and_blog.csv\")"
   ]
  },
  {
   "cell_type": "code",
   "execution_count": 6,
   "id": "bbd814ed-d9f7-43ba-aa35-9e1881349929",
   "metadata": {},
   "outputs": [],
   "source": [
    "#create a list to store all the survey text\n",
    "survey_list=[]\n",
    "\n",
    "#run a loop over the targeted column to append the text in the store\n",
    "for response in survey_df.loc[:,'How social media influenced you to make online purchase?']:\n",
    "    survey_list.append(response)\n",
    "    \n",
    "#create a list to store all the text collected from research paper \n",
    "research_list=[]\n",
    "\n",
    "#run a loop over the targeted column to append the text in the list \n",
    "for response in research_df.loc[:,'description']:\n",
    "    research_list.append(response)\n",
    "    \n",
    "#create a list to store all the text collected from news and blog \n",
    "news_list=[]\n",
    "\n",
    "#run a loop over the targeted column to append the text in the list \n",
    "for response in news_df.loc[:,'description']:\n",
    "    news_list.append(response)\n",
    "    \n",
    "#combine all the list and store to a master list\n",
    "master_list=interview_list+survey_list+research_list+news_list"
   ]
  },
  {
   "cell_type": "markdown",
   "id": "2dc30b41-90eb-407e-beb1-b6b75d414b7b",
   "metadata": {},
   "source": [
    "<b>Let's clean the dataset.</b>"
   ]
  },
  {
   "cell_type": "code",
   "execution_count": 7,
   "id": "05a1659d-8cc1-487f-a55b-125c15c0d8d0",
   "metadata": {},
   "outputs": [
    {
     "name": "stdout",
     "output_type": "stream",
     "text": [
      "<class 'str'>\n",
      "<class 'str'>\n",
      "<class 'str'>\n",
      "<class 'str'>\n",
      "<class 'str'>\n",
      "<class 'str'>\n",
      "<class 'str'>\n",
      "<class 'str'>\n",
      "<class 'str'>\n",
      "<class 'str'>\n",
      "<class 'str'>\n",
      "<class 'str'>\n",
      "<class 'str'>\n",
      "<class 'str'>\n",
      "<class 'str'>\n",
      "<class 'str'>\n",
      "<class 'float'>\n",
      "<class 'str'>\n",
      "<class 'str'>\n",
      "<class 'str'>\n",
      "<class 'str'>\n",
      "<class 'str'>\n",
      "<class 'str'>\n",
      "<class 'str'>\n",
      "<class 'str'>\n",
      "<class 'str'>\n",
      "<class 'str'>\n",
      "<class 'str'>\n",
      "<class 'str'>\n",
      "<class 'str'>\n",
      "<class 'str'>\n",
      "<class 'str'>\n",
      "<class 'str'>\n",
      "<class 'str'>\n",
      "<class 'str'>\n",
      "<class 'str'>\n",
      "<class 'str'>\n",
      "<class 'str'>\n",
      "<class 'str'>\n",
      "<class 'str'>\n",
      "<class 'str'>\n",
      "<class 'str'>\n",
      "<class 'str'>\n",
      "<class 'str'>\n",
      "<class 'str'>\n",
      "<class 'str'>\n",
      "<class 'str'>\n",
      "<class 'str'>\n",
      "<class 'str'>\n",
      "<class 'str'>\n",
      "<class 'str'>\n",
      "<class 'str'>\n",
      "<class 'str'>\n"
     ]
    }
   ],
   "source": [
    "#there is a float element in the list \n",
    "for entry in master_list:\n",
    "    print(type(entry))"
   ]
  },
  {
   "cell_type": "code",
   "execution_count": 8,
   "id": "c6d2c744-7b2a-4e4e-93b7-fd01c31928f8",
   "metadata": {},
   "outputs": [
    {
     "name": "stdout",
     "output_type": "stream",
     "text": [
      "<class 'str'>\n",
      "<class 'str'>\n",
      "<class 'str'>\n",
      "<class 'str'>\n",
      "<class 'str'>\n",
      "<class 'str'>\n",
      "<class 'str'>\n",
      "<class 'str'>\n",
      "<class 'str'>\n",
      "<class 'str'>\n",
      "<class 'str'>\n",
      "<class 'str'>\n",
      "<class 'str'>\n",
      "<class 'str'>\n",
      "<class 'str'>\n",
      "<class 'str'>\n",
      "<class 'str'>\n",
      "<class 'str'>\n",
      "<class 'str'>\n",
      "<class 'str'>\n",
      "<class 'str'>\n",
      "<class 'str'>\n",
      "<class 'str'>\n",
      "<class 'str'>\n",
      "<class 'str'>\n",
      "<class 'str'>\n",
      "<class 'str'>\n",
      "<class 'str'>\n",
      "<class 'str'>\n",
      "<class 'str'>\n",
      "<class 'str'>\n",
      "<class 'str'>\n",
      "<class 'str'>\n",
      "<class 'str'>\n",
      "<class 'str'>\n",
      "<class 'str'>\n",
      "<class 'str'>\n",
      "<class 'str'>\n",
      "<class 'str'>\n",
      "<class 'str'>\n",
      "<class 'str'>\n",
      "<class 'str'>\n",
      "<class 'str'>\n",
      "<class 'str'>\n",
      "<class 'str'>\n",
      "<class 'str'>\n",
      "<class 'str'>\n",
      "<class 'str'>\n",
      "<class 'str'>\n",
      "<class 'str'>\n",
      "<class 'str'>\n",
      "<class 'str'>\n",
      "<class 'str'>\n"
     ]
    }
   ],
   "source": [
    "#now ensuring each element is string\n",
    "master_list=[str(entry) for entry in master_list]\n",
    "\n",
    "#let's see each element type of the list\n",
    "for entry in master_list:\n",
    "    print(type(entry))"
   ]
  },
  {
   "cell_type": "code",
   "execution_count": 9,
   "id": "175f8931-4b92-46c1-bc5a-5d93ee37f872",
   "metadata": {},
   "outputs": [],
   "source": [
    "#transforming to lowercase letter\n",
    "list_lower=[text.lower() for text in master_list]\n",
    "\n",
    "#word tokenize the elements\n",
    "list_tokenize=[word_tokenize(text) for text in list_lower]\n",
    "\n",
    "#now let's remove the punctuation from the text\n",
    "regex=re.compile('[%s]' % re.escape(string.punctuation))\n",
    "list_no_punctuation=[]\n",
    "\n",
    "for review in list_tokenize:\n",
    "    temp_list_01=[]\n",
    "    for token in review:\n",
    "        new_token=regex.sub(u'',token)\n",
    "        if not new_token==u'':\n",
    "            temp_list_01.append(new_token)\n",
    "    list_no_punctuation.append(temp_list_01)\n",
    "    \n",
    "#now let's remove all the stopwords (unnecessary words)\n",
    "list_no_stopwords=[]\n",
    "\n",
    "for review in list_no_punctuation:\n",
    "    temp_list_02=[]\n",
    "    for word in review:\n",
    "        if not word in stopwords.words('english'):\n",
    "            temp_list_02.append(word)\n",
    "    list_no_stopwords.append(temp_list_02)\n",
    "    \n",
    "#now let's lemmatization the text\n",
    "wordnet=WordNetLemmatizer()\n",
    "list_lemmatized=[]\n",
    "\n",
    "for review in list_no_stopwords:\n",
    "    temp_list_03=[]\n",
    "    for word in review:\n",
    "        temp_list_03.append(wordnet.lemmatize(word))\n",
    "    list_lemmatized.append(temp_list_03)\n",
    "    \n",
    "#now we need to convert the 2D list into normal list and considered it as final list\n",
    "final_list=[words for review in list_lemmatized for words in review]"
   ]
  },
  {
   "cell_type": "code",
   "execution_count": 10,
   "id": "4935d11b-c3f6-42cf-90be-0adba29e6bea",
   "metadata": {},
   "outputs": [
    {
     "name": "stdout",
     "output_type": "stream",
     "text": [
      "<class 'pandas.core.frame.DataFrame'>\n",
      "RangeIndex: 2194 entries, 0 to 2193\n",
      "Data columns (total 2 columns):\n",
      " #   Column     Non-Null Count  Dtype \n",
      "---  ------     --------------  ----- \n",
      " 0   word       2194 non-null   object\n",
      " 1   frequency  2194 non-null   int64 \n",
      "dtypes: int64(1), object(1)\n",
      "memory usage: 34.4+ KB\n"
     ]
    }
   ],
   "source": [
    "#now include all the unique words with frequency in df dataframe\n",
    "df=pd.DataFrame()\n",
    "df['word']=Counter(final_list).keys()\n",
    "df['frequency']=Counter(final_list).values()\n",
    "df.info()"
   ]
  },
  {
   "cell_type": "code",
   "execution_count": 11,
   "id": "14744c93-1035-49b4-90a6-9407ee51f3c0",
   "metadata": {},
   "outputs": [],
   "source": [
    "#create a dictionary of words which will be considered as reasons\n",
    "target_dict={'price':['price','spent'],'cost of service':['reasonable','cost'],'easy service':['easy','easier','ease','shipping','delivery','convenience'],\n",
    "            'push to buy':['advertisement','ad','advertised','advertising','advertise','buyable'],'word of mouth':['review','peer','wordofmouth',\n",
    "                                                                                                                  'suggestion','suggesting','suggests','suggest','recommendation'],\n",
    "            'customer review':['rating','community','process','satisfaction','satisficers','satisfied','happy','opinion','comment','searchreferral',\n",
    "                              'service','quality'],\n",
    "            'product variation':['variety','availability'],'trust':['selection','content','trust','reliable','trustworthy','reputation'],'offers':['promotional','offer'],\n",
    "            'trend':['trend','exclusive'],'influencers':['influencer','influencers','celebrity','endorse','ambassador'],\n",
    "            'brand value':['compare','compared']}\n",
    "\n",
    "#also make indibidual list for each label\n",
    "price=['price','spent']\n",
    "cost_of_service=['reasonable','cost']\n",
    "easy_service=['easy','easier','ease','shipping','delivery','convenience']\n",
    "push_to_buy=['advertisement','ad','advertised','advertising','advertise','buyable']\n",
    "word_of_mouth=['review','peer','wordofmouth','suggestion','suggesting','suggests','suggest','recommendation']\n",
    "customer_review=['rating','community','process','satisfaction','satisficers','satisfied','happy','opinion','comment','searchreferral','service','quality']\n",
    "product_variation=['variety','availability']\n",
    "trust=['selection','content','trust','reliable','trustworthy','reputation']\n",
    "offers=['promotional','offer']\n",
    "trend=['trend','exclusive']\n",
    "influencers=['influencer','influencers','celebrity','endorse','ambassador']\n",
    "brand_value=['compare','compared']\n",
    "\n",
    "#now make a label list with keys of target_dict\n",
    "labels=list(target_dict.keys())\n",
    "\n",
    "#now make a words list with values of target_dict\n",
    "words=list(target_dict.values())"
   ]
  },
  {
   "cell_type": "code",
   "execution_count": 12,
   "id": "dd7cf084-afde-47d8-9ade-077c0661dc7b",
   "metadata": {},
   "outputs": [
    {
     "data": {
      "text/html": [
       "<div>\n",
       "<style scoped>\n",
       "    .dataframe tbody tr th:only-of-type {\n",
       "        vertical-align: middle;\n",
       "    }\n",
       "\n",
       "    .dataframe tbody tr th {\n",
       "        vertical-align: top;\n",
       "    }\n",
       "\n",
       "    .dataframe thead th {\n",
       "        text-align: right;\n",
       "    }\n",
       "</style>\n",
       "<table border=\"1\" class=\"dataframe\">\n",
       "  <thead>\n",
       "    <tr style=\"text-align: right;\">\n",
       "      <th></th>\n",
       "      <th>word</th>\n",
       "      <th>frequency</th>\n",
       "      <th>label</th>\n",
       "    </tr>\n",
       "  </thead>\n",
       "  <tbody>\n",
       "    <tr>\n",
       "      <th>32</th>\n",
       "      <td>price</td>\n",
       "      <td>13</td>\n",
       "      <td>Price</td>\n",
       "    </tr>\n",
       "    <tr>\n",
       "      <th>34</th>\n",
       "      <td>easy</td>\n",
       "      <td>14</td>\n",
       "      <td>Ease of Service</td>\n",
       "    </tr>\n",
       "    <tr>\n",
       "      <th>35</th>\n",
       "      <td>shipping</td>\n",
       "      <td>2</td>\n",
       "      <td>Ease of Service</td>\n",
       "    </tr>\n",
       "    <tr>\n",
       "      <th>36</th>\n",
       "      <td>reasonable</td>\n",
       "      <td>1</td>\n",
       "      <td>Cost of Service</td>\n",
       "    </tr>\n",
       "    <tr>\n",
       "      <th>48</th>\n",
       "      <td>advertisement</td>\n",
       "      <td>4</td>\n",
       "      <td>Push to Buy</td>\n",
       "    </tr>\n",
       "  </tbody>\n",
       "</table>\n",
       "</div>"
      ],
      "text/plain": [
       "             word  frequency            label\n",
       "32          price         13            Price\n",
       "34           easy         14  Ease of Service\n",
       "35       shipping          2  Ease of Service\n",
       "36     reasonable          1  Cost of Service\n",
       "48  advertisement          4      Push to Buy"
      ]
     },
     "execution_count": 12,
     "metadata": {},
     "output_type": "execute_result"
    }
   ],
   "source": [
    "#now we need to make the list words normal\n",
    "words_plain=[w for word in words for w in word]\n",
    "\n",
    "#keep only the targeted word in the dataframe\n",
    "df=df[df['word'].isin(words_plain)]\n",
    "\n",
    "#create label column in dataframe\n",
    "df['label']=''\n",
    "\n",
    "#now label each row according to the targeted word \n",
    "df.loc[df['word'].isin(price),'label']+='Price'\n",
    "df.loc[df['word'].isin(cost_of_service),'label']+='Cost of Service'\n",
    "df.loc[df['word'].isin(easy_service),'label']+='Ease of Service'\n",
    "df.loc[df['word'].isin(push_to_buy),'label']+='Push to Buy'\n",
    "df.loc[df['word'].isin(word_of_mouth),'label']+='Word of Mouth'\n",
    "df.loc[df['word'].isin(customer_review),'label']+='Customer Review'\n",
    "df.loc[df['word'].isin(product_variation),'label']+='Product Variation'\n",
    "df.loc[df['word'].isin(trust),'label']+='Trust'\n",
    "df.loc[df['word'].isin(offers),'label']+='Offers'\n",
    "df.loc[df['word'].isin(trend),'label']+='Trend'\n",
    "df.loc[df['word'].isin(influencers),'label']+='Influencers'\n",
    "df.loc[df['word'].isin(brand_value),'label']+='Brand Value'\n",
    "df.head()"
   ]
  },
  {
   "cell_type": "markdown",
   "id": "72ac5794-3688-4d8e-bfe7-a3ee94201626",
   "metadata": {},
   "source": [
    "<b>Let's generate some visualizatin.</b>"
   ]
  },
  {
   "cell_type": "code",
   "execution_count": 13,
   "id": "1ff57013-6aca-465b-8f5d-6a941ee7280d",
   "metadata": {},
   "outputs": [],
   "source": [
    "#import necessary libraries for visualization\n",
    "import numpy as np \n",
    "import matplotlib.pyplot as plt \n",
    "\n",
    "from matplotlib import lines \n",
    "from matplotlib import patches \n",
    "from matplotlib.patheffects import withStroke\n",
    "\n",
    "import plotly.express as px"
   ]
  },
  {
   "cell_type": "code",
   "execution_count": 14,
   "id": "a9911134-24e4-4bee-9612-7dba52bc0934",
   "metadata": {},
   "outputs": [],
   "source": [
    "#create a new dataframe containing only the necessary column in necessary order \n",
    "df_v01=df.groupby(['label']).sum().sort_values(by='frequency', ascending=True).reset_index()\n",
    "label=df_v01['label']\n",
    "frequency=df_v01['frequency']"
   ]
  },
  {
   "cell_type": "code",
   "execution_count": 15,
   "id": "3bc7e08b-e61b-4dbc-a242-aa53b1070c85",
   "metadata": {},
   "outputs": [
    {
     "data": {
      "text/plain": [
       "Text(0.35, 0.925, 'Frequency of Factors')"
      ]
     },
     "execution_count": 15,
     "metadata": {},
     "output_type": "execute_result"
    },
    {
     "name": "stderr",
     "output_type": "stream",
     "text": [
      "findfont: Font family ['Econ Sans Cnd'] not found. Falling back to DejaVu Sans.\n",
      "findfont: Font family ['Econ Sans Cnd'] not found. Falling back to DejaVu Sans.\n"
     ]
    },
    {
     "data": {
      "image/png": "[encoded data removed]",
      "text/plain": [
       "<Figure size 1152x576 with 1 Axes>"
      ]
     },
     "metadata": {
      "needs_background": "light"
     },
     "output_type": "display_data"
    }
   ],
   "source": [
    "#plotting basic bar chart\n",
    "fig,ax=plt.subplots(figsize=(16,8))\n",
    "ax.barh(label,frequency,height=0.70,align='edge')\n",
    "\n",
    "#customizing the layout\n",
    "ax.xaxis.set_ticks([i * 5 for i in range(0, 20)])\n",
    "ax.xaxis.set_ticklabels([i * 5 for i in range(0, 20)], size=15, fontfamily=\"Econ Sans Cnd\", fontweight=100)\n",
    "ax.xaxis.set_tick_params(labelbottom=True, labeltop=False, length=0)\n",
    "\n",
    "ax.yaxis.set_ticks([i for i in label])\n",
    "ax.yaxis.set_ticklabels([i for i in label], size=15, fontfamily=\"Econ Sans Cnd\", fontweight=100)\n",
    "\n",
    "ax.set_xlim((0, 95))\n",
    "ax.set_ylim((0, len(label)*1-0.2))\n",
    "\n",
    "#aligning the axis ticks and gridline\n",
    "ax.set_axisbelow(True)\n",
    "ax.grid(axis='x',color=\"#A8BAC4\",lw=1.2)\n",
    "ax.spines['right'].set_lw(1.5)\n",
    "ax.spines['left'].set_lw(1.5)\n",
    "ax.spines['top'].set_lw(1.5)\n",
    "ax.spines['bottom'].set_lw(1.5)\n",
    "ax.spines['left'].set_capstyle('butt')\n",
    "\n",
    "#as there is no room make room for caption on top \n",
    "fig.subplots_adjust(top=0.900)\n",
    "\n",
    "#add title\n",
    "fig.text(0.350,0.925,'Frequency of Factors',fontsize=22, fontweight='bold', fontfamily='Econ Sans Cnd')\n",
    "\n",
    "#save the plot \n",
    "#fig.savefig(\"frequency_of_factors.png\", dpi=300)"
   ]
  },
  {
   "cell_type": "code",
   "execution_count": 28,
   "id": "d92e70d1-53d8-427d-adc6-5b76dc11999f",
   "metadata": {},
   "outputs": [
    {
     "data": {
      "application/vnd.plotly.v1+json": {
       "config": {
        "plotlyServerURL": "https://plot.ly"
       },
       "data": [
        {
         "branchvalues": "total",
         "customdata": [
          [
           0.269
          ],
          [
           0.269
          ],
          [
           0.269
          ],
          [
           0.269
          ],
          [
           0.269
          ],
          [
           0.269
          ],
          [
           0.269
          ],
          [
           0.269
          ],
          [
           0.269
          ],
          [
           0.538
          ],
          [
           0.538
          ],
          [
           0.538
          ],
          [
           0.538
          ],
          [
           0.538
          ],
          [
           0.538
          ],
          [
           0.806
          ],
          [
           0.806
          ],
          [
           0.806
          ],
          [
           0.806
          ],
          [
           1.075
          ],
          [
           1.075
          ],
          [
           1.075
          ],
          [
           1.075
          ],
          [
           1.075
          ],
          [
           1.075
          ],
          [
           1.075
          ],
          [
           1.075
          ],
          [
           1.075
          ],
          [
           1.344
          ],
          [
           1.344
          ],
          [
           1.344
          ],
          [
           1.344
          ],
          [
           1.613
          ],
          [
           1.613
          ],
          [
           1.613
          ],
          [
           1.613
          ],
          [
           1.613
          ],
          [
           1.613
          ],
          [
           1.882
          ],
          [
           1.882
          ],
          [
           2.151
          ],
          [
           2.151
          ],
          [
           2.419
          ],
          [
           2.419
          ],
          [
           2.688
          ],
          [
           2.957
          ],
          [
           2.957
          ],
          [
           3.495
          ],
          [
           3.763
          ],
          [
           4.032
          ],
          [
           4.032
          ],
          [
           6.719999999999999
          ],
          [
           6.989
          ],
          [
           7.796
          ],
          [
           8.065
          ],
          [
           1.075
          ],
          [
           0.538
          ],
          [
           0.269
          ],
          [
           1.075
          ],
          [
           1.344
          ],
          [
           0.538
          ],
          [
           1.344
          ],
          [
           1.613
          ],
          [
           0.806
          ],
          [
           1.882
          ],
          [
           1.613
          ],
          [
           0.269
          ],
          [
           0.806
          ],
          [
           6.719999999999999
          ],
          [
           1.613
          ],
          [
           4.032
          ],
          [
           0.806
          ],
          [
           1.075
          ],
          [
           1.075
          ],
          [
           3.763
          ],
          [
           0.538
          ],
          [
           0.538
          ],
          [
           1.075
          ],
          [
           2.151
          ],
          [
           1.882
          ],
          [
           2.419
          ],
          [
           2.151
          ],
          [
           1.613
          ],
          [
           3.495
          ],
          [
           4.032
          ],
          [
           0.538
          ],
          [
           2.419
          ],
          [
           0.269
          ],
          [
           0.269
          ],
          [
           2.957
          ],
          [
           0.269
          ],
          [
           1.075
          ],
          [
           8.065
          ],
          [
           2.957
          ],
          [
           0.269
          ],
          [
           1.344
          ],
          [
           0.269
          ],
          [
           1.075
          ],
          [
           6.989
          ],
          [
           0.538
          ],
          [
           1.613
          ],
          [
           1.613
          ],
          [
           1.344
          ],
          [
           0.806
          ],
          [
           1.075
          ],
          [
           2.688
          ],
          [
           7.796
          ],
          [
           0.269
          ],
          [
           1.075
          ],
          [
           0.269
          ],
          [
           0.6716251162790697
          ],
          [
           3.7966484538479426
          ],
          [
           3.706046657960347
          ],
          [
           2.256174520856821
          ],
          [
           1.5887149619611156
          ],
          [
           2.076768684477511
          ],
          [
           2.900703602192639
          ],
          [
           1.2244568003307152
          ],
          [
           1.1973554277984446
          ],
          [
           2.3294445133292006
          ],
          [
           6.300394559404791
          ],
          [
           4.659878818622478
          ]
         ],
         "domain": {
          "x": [
           0,
           1
          ],
          "y": [
           0,
           1
          ]
         },
         "hovertemplate": "labels=%{label}<br>percentage_sum=%{value}<br>parent=%{parent}<br>id=%{id}<br>percentage=%{color}<extra></extra>",
         "ids": [
          "Push to Buy/advertised/0.269",
          "Brand Value/compare/0.269",
          "Customer Review/rating/0.269",
          "Cost of Service/reasonable/0.269",
          "Trust/reliable/0.269",
          "Customer Review/satisficers/0.269",
          "Customer Review/searchreferral/0.269",
          "Trust/trustworthy/0.269",
          "Word of Mouth/wordofmouth/0.269",
          "Push to Buy/advertise/0.538",
          "Influencers/ambassador/0.538",
          "Influencers/endorse/0.538",
          "Trend/exclusive/0.538",
          "Offers/promotional/0.538",
          "Ease of Service/shipping/0.538",
          "Influencers/celebrity/0.806",
          "Brand Value/compared/0.806",
          "Ease of Service/delivery/0.806",
          "Word of Mouth/suggestion/0.806",
          "Push to Buy/ad/1.075",
          "Push to Buy/advertisement/1.075",
          "Ease of Service/ease/1.075",
          "Ease of Service/easier/1.075",
          "Customer Review/happy/1.075",
          "Trust/reputation/1.075",
          "Trust/selection/1.075",
          "Word of Mouth/suggests/1.075",
          "Product Variation/variety/1.075",
          "Push to Buy/advertising/1.344",
          "Product Variation/availability/1.344",
          "Customer Review/satisfied/1.344",
          "Word of Mouth/suggesting/1.344",
          "Push to Buy/buyable/1.613",
          "Customer Review/community/1.613",
          "Ease of Service/convenience/1.613",
          "Word of Mouth/peer/1.613",
          "Price/spent/1.613",
          "Word of Mouth/suggest/1.613",
          "Customer Review/comment/1.882",
          "Influencers/influencers/1.882",
          "Influencers/influencer/2.151",
          "Customer Review/opinion/2.151",
          "Offers/offer/2.419",
          "Customer Review/quality/2.419",
          "Trend/trend/2.688",
          "Word of Mouth/recommendation/2.957",
          "Customer Review/satisfaction/2.957",
          "Price/price/3.495",
          "Ease of Service/easy/3.763",
          "Cost of Service/cost/4.032",
          "Customer Review/process/4.032",
          "Trust/content/6.72",
          "Customer Review/service/6.989",
          "Trust/trust/7.796",
          "Word of Mouth/review/8.065",
          "Push to Buy/ad",
          "Push to Buy/advertise",
          "Push to Buy/advertised",
          "Push to Buy/advertisement",
          "Push to Buy/advertising",
          "Influencers/ambassador",
          "Product Variation/availability",
          "Push to Buy/buyable",
          "Influencers/celebrity",
          "Customer Review/comment",
          "Customer Review/community",
          "Brand Value/compare",
          "Brand Value/compared",
          "Trust/content",
          "Ease of Service/convenience",
          "Cost of Service/cost",
          "Ease of Service/delivery",
          "Ease of Service/ease",
          "Ease of Service/easier",
          "Ease of Service/easy",
          "Influencers/endorse",
          "Trend/exclusive",
          "Customer Review/happy",
          "Influencers/influencer",
          "Influencers/influencers",
          "Offers/offer",
          "Customer Review/opinion",
          "Word of Mouth/peer",
          "Price/price",
          "Customer Review/process",
          "Offers/promotional",
          "Customer Review/quality",
          "Customer Review/rating",
          "Cost of Service/reasonable",
          "Word of Mouth/recommendation",
          "Trust/reliable",
          "Trust/reputation",
          "Word of Mouth/review",
          "Customer Review/satisfaction",
          "Customer Review/satisficers",
          "Customer Review/satisfied",
          "Customer Review/searchreferral",
          "Trust/selection",
          "Customer Review/service",
          "Ease of Service/shipping",
          "Price/spent",
          "Word of Mouth/suggest",
          "Word of Mouth/suggesting",
          "Word of Mouth/suggestion",
          "Word of Mouth/suggests",
          "Trend/trend",
          "Trust/trust",
          "Trust/trustworthy",
          "Product Variation/variety",
          "Word of Mouth/wordofmouth",
          "Brand Value",
          "Cost of Service",
          "Customer Review",
          "Ease of Service",
          "Influencers",
          "Offers",
          "Price",
          "Product Variation",
          "Push to Buy",
          "Trend",
          "Trust",
          "Word of Mouth"
         ],
         "labels": [
          "0.269",
          "0.269",
          "0.269",
          "0.269",
          "0.269",
          "0.269",
          "0.269",
          "0.269",
          "0.269",
          "0.538",
          "0.538",
          "0.538",
          "0.538",
          "0.538",
          "0.538",
          "0.806",
          "0.806",
          "0.806",
          "0.806",
          "1.075",
          "1.075",
          "1.075",
          "1.075",
          "1.075",
          "1.075",
          "1.075",
          "1.075",
          "1.075",
          "1.344",
          "1.344",
          "1.344",
          "1.344",
          "1.613",
          "1.613",
          "1.613",
          "1.613",
          "1.613",
          "1.613",
          "1.882",
          "1.882",
          "2.151",
          "2.151",
          "2.419",
          "2.419",
          "2.688",
          "2.957",
          "2.957",
          "3.495",
          "3.763",
          "4.032",
          "4.032",
          "6.72",
          "6.989",
          "7.796",
          "8.065",
          "ad",
          "advertise",
          "advertised",
          "advertisement",
          "advertising",
          "ambassador",
          "availability",
          "buyable",
          "celebrity",
          "comment",
          "community",
          "compare",
          "compared",
          "content",
          "convenience",
          "cost",
          "delivery",
          "ease",
          "easier",
          "easy",
          "endorse",
          "exclusive",
          "happy",
          "influencer",
          "influencers",
          "offer",
          "opinion",
          "peer",
          "price",
          "process",
          "promotional",
          "quality",
          "rating",
          "reasonable",
          "recommendation",
          "reliable",
          "reputation",
          "review",
          "satisfaction",
          "satisficers",
          "satisfied",
          "searchreferral",
          "selection",
          "service",
          "shipping",
          "spent",
          "suggest",
          "suggesting",
          "suggestion",
          "suggests",
          "trend",
          "trust",
          "trustworthy",
          "variety",
          "wordofmouth",
          "Brand Value",
          "Cost of Service",
          "Customer Review",
          "Ease of Service",
          "Influencers",
          "Offers",
          "Price",
          "Product Variation",
          "Push to Buy",
          "Trend",
          "Trust",
          "Word of Mouth"
         ],
         "marker": {
          "coloraxis": "coloraxis",
          "colors": [
           0.269,
           0.269,
           0.269,
           0.269,
           0.269,
           0.269,
           0.269,
           0.269,
           0.269,
           0.538,
           0.538,
           0.538,
           0.538,
           0.538,
           0.538,
           0.806,
           0.806,
           0.806,
           0.806,
           1.075,
           1.075,
           1.075,
           1.075,
           1.075,
           1.075,
           1.075,
           1.075,
           1.075,
           1.344,
           1.344,
           1.344,
           1.344,
           1.613,
           1.613,
           1.613,
           1.613,
           1.613,
           1.613,
           1.882,
           1.882,
           2.151,
           2.151,
           2.419,
           2.419,
           2.688,
           2.957,
           2.957,
           3.495,
           3.763,
           4.032,
           4.032,
           6.719999999999999,
           6.989,
           7.796,
           8.065,
           1.075,
           0.538,
           0.269,
           1.075,
           1.344,
           0.538,
           1.344,
           1.613,
           0.806,
           1.882,
           1.613,
           0.269,
           0.806,
           6.719999999999999,
           1.613,
           4.032,
           0.806,
           1.075,
           1.075,
           3.763,
           0.538,
           0.538,
           1.075,
           2.151,
           1.882,
           2.419,
           2.151,
           1.613,
           3.495,
           4.032,
           0.538,
           2.419,
           0.269,
           0.269,
           2.957,
           0.269,
           1.075,
           8.065,
           2.957,
           0.269,
           1.344,
           0.269,
           1.075,
           6.989,
           0.538,
           1.613,
           1.613,
           1.344,
           0.806,
           1.075,
           2.688,
           7.796,
           0.269,
           1.075,
           0.269,
           0.6716251162790697,
           3.7966484538479426,
           3.706046657960347,
           2.256174520856821,
           1.5887149619611156,
           2.076768684477511,
           2.900703602192639,
           1.2244568003307152,
           1.1973554277984446,
           2.3294445133292006,
           6.300394559404791,
           4.659878818622478
          ]
         },
         "name": "",
         "parents": [
          "Push to Buy/advertised",
          "Brand Value/compare",
          "Customer Review/rating",
          "Cost of Service/reasonable",
          "Trust/reliable",
          "Customer Review/satisficers",
          "Customer Review/searchreferral",
          "Trust/trustworthy",
          "Word of Mouth/wordofmouth",
          "Push to Buy/advertise",
          "Influencers/ambassador",
          "Influencers/endorse",
          "Trend/exclusive",
          "Offers/promotional",
          "Ease of Service/shipping",
          "Influencers/celebrity",
          "Brand Value/compared",
          "Ease of Service/delivery",
          "Word of Mouth/suggestion",
          "Push to Buy/ad",
          "Push to Buy/advertisement",
          "Ease of Service/ease",
          "Ease of Service/easier",
          "Customer Review/happy",
          "Trust/reputation",
          "Trust/selection",
          "Word of Mouth/suggests",
          "Product Variation/variety",
          "Push to Buy/advertising",
          "Product Variation/availability",
          "Customer Review/satisfied",
          "Word of Mouth/suggesting",
          "Push to Buy/buyable",
          "Customer Review/community",
          "Ease of Service/convenience",
          "Word of Mouth/peer",
          "Price/spent",
          "Word of Mouth/suggest",
          "Customer Review/comment",
          "Influencers/influencers",
          "Influencers/influencer",
          "Customer Review/opinion",
          "Offers/offer",
          "Customer Review/quality",
          "Trend/trend",
          "Word of Mouth/recommendation",
          "Customer Review/satisfaction",
          "Price/price",
          "Ease of Service/easy",
          "Cost of Service/cost",
          "Customer Review/process",
          "Trust/content",
          "Customer Review/service",
          "Trust/trust",
          "Word of Mouth/review",
          "Push to Buy",
          "Push to Buy",
          "Push to Buy",
          "Push to Buy",
          "Push to Buy",
          "Influencers",
          "Product Variation",
          "Push to Buy",
          "Influencers",
          "Customer Review",
          "Customer Review",
          "Brand Value",
          "Brand Value",
          "Trust",
          "Ease of Service",
          "Cost of Service",
          "Ease of Service",
          "Ease of Service",
          "Ease of Service",
          "Ease of Service",
          "Influencers",
          "Trend",
          "Customer Review",
          "Influencers",
          "Influencers",
          "Offers",
          "Customer Review",
          "Word of Mouth",
          "Price",
          "Customer Review",
          "Offers",
          "Customer Review",
          "Customer Review",
          "Cost of Service",
          "Word of Mouth",
          "Trust",
          "Trust",
          "Word of Mouth",
          "Customer Review",
          "Customer Review",
          "Customer Review",
          "Customer Review",
          "Trust",
          "Customer Review",
          "Ease of Service",
          "Price",
          "Word of Mouth",
          "Word of Mouth",
          "Word of Mouth",
          "Word of Mouth",
          "Trend",
          "Trust",
          "Trust",
          "Product Variation",
          "Word of Mouth",
          "",
          "",
          "",
          "",
          "",
          "",
          "",
          "",
          "",
          "",
          "",
          ""
         ],
         "type": "treemap",
         "values": [
          0.269,
          0.269,
          0.269,
          0.269,
          0.269,
          0.269,
          0.269,
          0.269,
          0.269,
          0.538,
          0.538,
          0.538,
          0.538,
          0.538,
          0.538,
          0.806,
          0.806,
          0.806,
          0.806,
          1.075,
          1.075,
          1.075,
          1.075,
          1.075,
          1.075,
          1.075,
          1.075,
          1.075,
          1.344,
          1.344,
          1.344,
          1.344,
          1.613,
          1.613,
          1.613,
          1.613,
          1.613,
          1.613,
          1.882,
          1.882,
          2.151,
          2.151,
          2.419,
          2.419,
          2.688,
          2.957,
          2.957,
          3.495,
          3.763,
          4.032,
          4.032,
          6.72,
          6.989,
          7.796,
          8.065,
          1.075,
          0.538,
          0.269,
          1.075,
          1.344,
          0.538,
          1.344,
          1.613,
          0.806,
          1.882,
          1.613,
          0.269,
          0.806,
          6.72,
          1.613,
          4.032,
          0.806,
          1.075,
          1.075,
          3.763,
          0.538,
          0.538,
          1.075,
          2.151,
          1.882,
          2.419,
          2.151,
          1.613,
          3.495,
          4.032,
          0.538,
          2.419,
          0.269,
          0.269,
          2.957,
          0.269,
          1.075,
          8.065,
          2.957,
          0.269,
          1.344,
          0.269,
          1.075,
          6.989,
          0.538,
          1.613,
          1.613,
          1.344,
          0.806,
          1.075,
          2.688,
          7.796,
          0.269,
          1.075,
          0.269,
          1.0750000000000002,
          4.301,
          25.269,
          8.87,
          5.915,
          2.957,
          5.1080000000000005,
          2.419,
          5.914,
          3.226,
          17.204,
          17.742
         ]
        }
       ],
       "layout": {
        "autosize": true,
        "coloraxis": {
         "colorbar": {
          "title": {
           "text": "percentage"
          }
         },
         "colorscale": [
          [
           0,
           "rgb(255,255,217)"
          ],
          [
           0.125,
           "rgb(237,248,177)"
          ],
          [
           0.25,
           "rgb(199,233,180)"
          ],
          [
           0.375,
           "rgb(127,205,187)"
          ],
          [
           0.5,
           "rgb(65,182,196)"
          ],
          [
           0.625,
           "rgb(29,145,192)"
          ],
          [
           0.75,
           "rgb(34,94,168)"
          ],
          [
           0.875,
           "rgb(37,52,148)"
          ],
          [
           1,
           "rgb(8,29,88)"
          ]
         ]
        },
        "legend": {
         "tracegroupgap": 0
        },
        "margin": {
         "b": 10,
         "l": 10,
         "r": 10,
         "t": 10
        },
        "template": {
         "data": {
          "bar": [
           {
            "error_x": {
             "color": "#2a3f5f"
            },
            "error_y": {
             "color": "#2a3f5f"
            },
            "marker": {
             "line": {
              "color": "#E5ECF6",
              "width": 0.5
             },
             "pattern": {
              "fillmode": "overlay",
              "size": 10,
              "solidity": 0.2
             }
            },
            "type": "bar"
           }
          ],
          "barpolar": [
           {
            "marker": {
             "line": {
              "color": "#E5ECF6",
              "width": 0.5
             },
             "pattern": {
              "fillmode": "overlay",
              "size": 10,
              "solidity": 0.2
             }
            },
            "type": "barpolar"
           }
          ],
          "carpet": [
           {
            "aaxis": {
             "endlinecolor": "#2a3f5f",
             "gridcolor": "white",
             "linecolor": "white",
             "minorgridcolor": "white",
             "startlinecolor": "#2a3f5f"
            },
            "baxis": {
             "endlinecolor": "#2a3f5f",
             "gridcolor": "white",
             "linecolor": "white",
             "minorgridcolor": "white",
             "startlinecolor": "#2a3f5f"
            },
            "type": "carpet"
           }
          ],
          "choropleth": [
           {
            "colorbar": {
             "outlinewidth": 0,
             "ticks": ""
            },
            "type": "choropleth"
           }
          ],
          "contour": [
           {
            "colorbar": {
             "outlinewidth": 0,
             "ticks": ""
            },
            "colorscale": [
             [
              0,
              "#0d0887"
             ],
             [
              0.1111111111111111,
              "#46039f"
             ],
             [
              0.2222222222222222,
              "#7201a8"
             ],
             [
              0.3333333333333333,
              "#9c179e"
             ],
             [
              0.4444444444444444,
              "#bd3786"
             ],
             [
              0.5555555555555556,
              "#d8576b"
             ],
             [
              0.6666666666666666,
              "#ed7953"
             ],
             [
              0.7777777777777778,
              "#fb9f3a"
             ],
             [
              0.8888888888888888,
              "#fdca26"
             ],
             [
              1,
              "#f0f921"
             ]
            ],
            "type": "contour"
           }
          ],
          "contourcarpet": [
           {
            "colorbar": {
             "outlinewidth": 0,
             "ticks": ""
            },
            "type": "contourcarpet"
           }
          ],
          "heatmap": [
           {
            "colorbar": {
             "outlinewidth": 0,
             "ticks": ""
            },
            "colorscale": [
             [
              0,
              "#0d0887"
             ],
             [
              0.1111111111111111,
              "#46039f"
             ],
             [
              0.2222222222222222,
              "#7201a8"
             ],
             [
              0.3333333333333333,
              "#9c179e"
             ],
             [
              0.4444444444444444,
              "#bd3786"
             ],
             [
              0.5555555555555556,
              "#d8576b"
             ],
             [
              0.6666666666666666,
              "#ed7953"
             ],
             [
              0.7777777777777778,
              "#fb9f3a"
             ],
             [
              0.8888888888888888,
              "#fdca26"
             ],
             [
              1,
              "#f0f921"
             ]
            ],
            "type": "heatmap"
           }
          ],
          "heatmapgl": [
           {
            "colorbar": {
             "outlinewidth": 0,
             "ticks": ""
            },
            "colorscale": [
             [
              0,
              "#0d0887"
             ],
             [
              0.1111111111111111,
              "#46039f"
             ],
             [
              0.2222222222222222,
              "#7201a8"
             ],
             [
              0.3333333333333333,
              "#9c179e"
             ],
             [
              0.4444444444444444,
              "#bd3786"
             ],
             [
              0.5555555555555556,
              "#d8576b"
             ],
             [
              0.6666666666666666,
              "#ed7953"
             ],
             [
              0.7777777777777778,
              "#fb9f3a"
             ],
             [
              0.8888888888888888,
              "#fdca26"
             ],
             [
              1,
              "#f0f921"
             ]
            ],
            "type": "heatmapgl"
           }
          ],
          "histogram": [
           {
            "marker": {
             "pattern": {
              "fillmode": "overlay",
              "size": 10,
              "solidity": 0.2
             }
            },
            "type": "histogram"
           }
          ],
          "histogram2d": [
           {
            "colorbar": {
             "outlinewidth": 0,
             "ticks": ""
            },
            "colorscale": [
             [
              0,
              "#0d0887"
             ],
             [
              0.1111111111111111,
              "#46039f"
             ],
             [
              0.2222222222222222,
              "#7201a8"
             ],
             [
              0.3333333333333333,
              "#9c179e"
             ],
             [
              0.4444444444444444,
              "#bd3786"
             ],
             [
              0.5555555555555556,
              "#d8576b"
             ],
             [
              0.6666666666666666,
              "#ed7953"
             ],
             [
              0.7777777777777778,
              "#fb9f3a"
             ],
             [
              0.8888888888888888,
              "#fdca26"
             ],
             [
              1,
              "#f0f921"
             ]
            ],
            "type": "histogram2d"
           }
          ],
          "histogram2dcontour": [
           {
            "colorbar": {
             "outlinewidth": 0,
             "ticks": ""
            },
            "colorscale": [
             [
              0,
              "#0d0887"
             ],
             [
              0.1111111111111111,
              "#46039f"
             ],
             [
              0.2222222222222222,
              "#7201a8"
             ],
             [
              0.3333333333333333,
              "#9c179e"
             ],
             [
              0.4444444444444444,
              "#bd3786"
             ],
             [
              0.5555555555555556,
              "#d8576b"
             ],
             [
              0.6666666666666666,
              "#ed7953"
             ],
             [
              0.7777777777777778,
              "#fb9f3a"
             ],
             [
              0.8888888888888888,
              "#fdca26"
             ],
             [
              1,
              "#f0f921"
             ]
            ],
            "type": "histogram2dcontour"
           }
          ],
          "mesh3d": [
           {
            "colorbar": {
             "outlinewidth": 0,
             "ticks": ""
            },
            "type": "mesh3d"
           }
          ],
          "parcoords": [
           {
            "line": {
             "colorbar": {
              "outlinewidth": 0,
              "ticks": ""
             }
            },
            "type": "parcoords"
           }
          ],
          "pie": [
           {
            "automargin": true,
            "type": "pie"
           }
          ],
          "scatter": [
           {
            "marker": {
             "colorbar": {
              "outlinewidth": 0,
              "ticks": ""
             }
            },
            "type": "scatter"
           }
          ],
          "scatter3d": [
           {
            "line": {
             "colorbar": {
              "outlinewidth": 0,
              "ticks": ""
             }
            },
            "marker": {
             "colorbar": {
              "outlinewidth": 0,
              "ticks": ""
             }
            },
            "type": "scatter3d"
           }
          ],
          "scattercarpet": [
           {
            "marker": {
             "colorbar": {
              "outlinewidth": 0,
              "ticks": ""
             }
            },
            "type": "scattercarpet"
           }
          ],
          "scattergeo": [
           {
            "marker": {
             "colorbar": {
              "outlinewidth": 0,
              "ticks": ""
             }
            },
            "type": "scattergeo"
           }
          ],
          "scattergl": [
           {
            "marker": {
             "colorbar": {
              "outlinewidth": 0,
              "ticks": ""
             }
            },
            "type": "scattergl"
           }
          ],
          "scattermapbox": [
           {
            "marker": {
             "colorbar": {
              "outlinewidth": 0,
              "ticks": ""
             }
            },
            "type": "scattermapbox"
           }
          ],
          "scatterpolar": [
           {
            "marker": {
             "colorbar": {
              "outlinewidth": 0,
              "ticks": ""
             }
            },
            "type": "scatterpolar"
           }
          ],
          "scatterpolargl": [
           {
            "marker": {
             "colorbar": {
              "outlinewidth": 0,
              "ticks": ""
             }
            },
            "type": "scatterpolargl"
           }
          ],
          "scatterternary": [
           {
            "marker": {
             "colorbar": {
              "outlinewidth": 0,
              "ticks": ""
             }
            },
            "type": "scatterternary"
           }
          ],
          "surface": [
           {
            "colorbar": {
             "outlinewidth": 0,
             "ticks": ""
            },
            "colorscale": [
             [
              0,
              "#0d0887"
             ],
             [
              0.1111111111111111,
              "#46039f"
             ],
             [
              0.2222222222222222,
              "#7201a8"
             ],
             [
              0.3333333333333333,
              "#9c179e"
             ],
             [
              0.4444444444444444,
              "#bd3786"
             ],
             [
              0.5555555555555556,
              "#d8576b"
             ],
             [
              0.6666666666666666,
              "#ed7953"
             ],
             [
              0.7777777777777778,
              "#fb9f3a"
             ],
             [
              0.8888888888888888,
              "#fdca26"
             ],
             [
              1,
              "#f0f921"
             ]
            ],
            "type": "surface"
           }
          ],
          "table": [
           {
            "cells": {
             "fill": {
              "color": "#EBF0F8"
             },
             "line": {
              "color": "white"
             }
            },
            "header": {
             "fill": {
              "color": "#C8D4E3"
             },
             "line": {
              "color": "white"
             }
            },
            "type": "table"
           }
          ]
         },
         "layout": {
          "annotationdefaults": {
           "arrowcolor": "#2a3f5f",
           "arrowhead": 0,
           "arrowwidth": 1
          },
          "autotypenumbers": "strict",
          "coloraxis": {
           "colorbar": {
            "outlinewidth": 0,
            "ticks": ""
           }
          },
          "colorscale": {
           "diverging": [
            [
             0,
             "#8e0152"
            ],
            [
             0.1,
             "#c51b7d"
            ],
            [
             0.2,
             "#de77ae"
            ],
            [
             0.3,
             "#f1b6da"
            ],
            [
             0.4,
             "#fde0ef"
            ],
            [
             0.5,
             "#f7f7f7"
            ],
            [
             0.6,
             "#e6f5d0"
            ],
            [
             0.7,
             "#b8e186"
            ],
            [
             0.8,
             "#7fbc41"
            ],
            [
             0.9,
             "#4d9221"
            ],
            [
             1,
             "#276419"
            ]
           ],
           "sequential": [
            [
             0,
             "#0d0887"
            ],
            [
             0.1111111111111111,
             "#46039f"
            ],
            [
             0.2222222222222222,
             "#7201a8"
            ],
            [
             0.3333333333333333,
             "#9c179e"
            ],
            [
             0.4444444444444444,
             "#bd3786"
            ],
            [
             0.5555555555555556,
             "#d8576b"
            ],
            [
             0.6666666666666666,
             "#ed7953"
            ],
            [
             0.7777777777777778,
             "#fb9f3a"
            ],
            [
             0.8888888888888888,
             "#fdca26"
            ],
            [
             1,
             "#f0f921"
            ]
           ],
           "sequentialminus": [
            [
             0,
             "#0d0887"
            ],
            [
             0.1111111111111111,
             "#46039f"
            ],
            [
             0.2222222222222222,
             "#7201a8"
            ],
            [
             0.3333333333333333,
             "#9c179e"
            ],
            [
             0.4444444444444444,
             "#bd3786"
            ],
            [
             0.5555555555555556,
             "#d8576b"
            ],
            [
             0.6666666666666666,
             "#ed7953"
            ],
            [
             0.7777777777777778,
             "#fb9f3a"
            ],
            [
             0.8888888888888888,
             "#fdca26"
            ],
            [
             1,
             "#f0f921"
            ]
           ]
          },
          "colorway": [
           "#636efa",
           "#EF553B",
           "#00cc96",
           "#ab63fa",
           "#FFA15A",
           "#19d3f3",
           "#FF6692",
           "#B6E880",
           "#FF97FF",
           "#FECB52"
          ],
          "font": {
           "color": "#2a3f5f"
          },
          "geo": {
           "bgcolor": "white",
           "lakecolor": "white",
           "landcolor": "#E5ECF6",
           "showlakes": true,
           "showland": true,
           "subunitcolor": "white"
          },
          "hoverlabel": {
           "align": "left"
          },
          "hovermode": "closest",
          "mapbox": {
           "style": "light"
          },
          "paper_bgcolor": "white",
          "plot_bgcolor": "#E5ECF6",
          "polar": {
           "angularaxis": {
            "gridcolor": "white",
            "linecolor": "white",
            "ticks": ""
           },
           "bgcolor": "#E5ECF6",
           "radialaxis": {
            "gridcolor": "white",
            "linecolor": "white",
            "ticks": ""
           }
          },
          "scene": {
           "xaxis": {
            "backgroundcolor": "#E5ECF6",
            "gridcolor": "white",
            "gridwidth": 2,
            "linecolor": "white",
            "showbackground": true,
            "ticks": "",
            "zerolinecolor": "white"
           },
           "yaxis": {
            "backgroundcolor": "#E5ECF6",
            "gridcolor": "white",
            "gridwidth": 2,
            "linecolor": "white",
            "showbackground": true,
            "ticks": "",
            "zerolinecolor": "white"
           },
           "zaxis": {
            "backgroundcolor": "#E5ECF6",
            "gridcolor": "white",
            "gridwidth": 2,
            "linecolor": "white",
            "showbackground": true,
            "ticks": "",
            "zerolinecolor": "white"
           }
          },
          "shapedefaults": {
           "line": {
            "color": "#2a3f5f"
           }
          },
          "ternary": {
           "aaxis": {
            "gridcolor": "white",
            "linecolor": "white",
            "ticks": ""
           },
           "baxis": {
            "gridcolor": "white",
            "linecolor": "white",
            "ticks": ""
           },
           "bgcolor": "#E5ECF6",
           "caxis": {
            "gridcolor": "white",
            "linecolor": "white",
            "ticks": ""
           }
          },
          "title": {
           "x": 0.05
          },
          "xaxis": {
           "automargin": true,
           "gridcolor": "white",
           "linecolor": "white",
           "ticks": "",
           "title": {
            "standoff": 15
           },
           "zerolinecolor": "white",
           "zerolinewidth": 2
          },
          "yaxis": {
           "automargin": true,
           "gridcolor": "white",
           "linecolor": "white",
           "ticks": "",
           "title": {
            "standoff": 15
           },
           "zerolinecolor": "white",
           "zerolinewidth": 2
          }
         }
        }
       }
      },
      "image/png": "[encoded data removed]",
      "text/html": [
       "<div>                            <div id=\"0483a37c-79fe-4287-83e6-c1de557c9a69\" class=\"plotly-graph-div\" style=\"height:525px; width:100%;\"></div>            <script type=\"text/javascript\">                require([\"plotly\"], function(Plotly) {                    window.PLOTLYENV=window.PLOTLYENV || {};                                    if (document.getElementById(\"0483a37c-79fe-4287-83e6-c1de557c9a69\")) {                    Plotly.newPlot(                        \"0483a37c-79fe-4287-83e6-c1de557c9a69\",                        [{\"branchvalues\":\"total\",\"customdata\":[[0.269],[0.269],[0.269],[0.269],[0.269],[0.269],[0.269],[0.269],[0.269],[0.538],[0.538],[0.538],[0.538],[0.538],[0.538],[0.806],[0.806],[0.806],[0.806],[1.075],[1.075],[1.075],[1.075],[1.075],[1.075],[1.075],[1.075],[1.075],[1.344],[1.344],[1.344],[1.344],[1.613],[1.613],[1.613],[1.613],[1.613],[1.613],[1.882],[1.882],[2.151],[2.151],[2.419],[2.419],[2.688],[2.957],[2.957],[3.495],[3.763],[4.032],[4.032],[6.719999999999999],[6.989],[7.796],[8.065],[1.075],[0.538],[0.269],[1.075],[1.344],[0.538],[1.344],[1.613],[0.806],[1.882],[1.613],[0.269],[0.806],[6.719999999999999],[1.613],[4.032],[0.806],[1.075],[1.075],[3.763],[0.538],[0.538],[1.075],[2.151],[1.882],[2.419],[2.151],[1.613],[3.495],[4.032],[0.538],[2.419],[0.269],[0.269],[2.957],[0.269],[1.075],[8.065],[2.957],[0.269],[1.344],[0.269],[1.075],[6.989],[0.538],[1.613],[1.613],[1.344],[0.806],[1.075],[2.688],[7.796],[0.269],[1.075],[0.269],[0.6716251162790697],[3.7966484538479426],[3.706046657960347],[2.256174520856821],[1.5887149619611156],[2.076768684477511],[2.900703602192639],[1.2244568003307152],[1.1973554277984446],[2.3294445133292006],[6.300394559404791],[4.659878818622478]],\"domain\":{\"x\":[0.0,1.0],\"y\":[0.0,1.0]},\"hovertemplate\":\"labels=%{label}<br>percentage_sum=%{value}<br>parent=%{parent}<br>id=%{id}<br>percentage=%{color}<extra></extra>\",\"ids\":[\"Push to Buy/advertised/0.269\",\"Brand Value/compare/0.269\",\"Customer Review/rating/0.269\",\"Cost of Service/reasonable/0.269\",\"Trust/reliable/0.269\",\"Customer Review/satisficers/0.269\",\"Customer Review/searchreferral/0.269\",\"Trust/trustworthy/0.269\",\"Word of Mouth/wordofmouth/0.269\",\"Push to Buy/advertise/0.538\",\"Influencers/ambassador/0.538\",\"Influencers/endorse/0.538\",\"Trend/exclusive/0.538\",\"Offers/promotional/0.538\",\"Ease of Service/shipping/0.538\",\"Influencers/celebrity/0.806\",\"Brand Value/compared/0.806\",\"Ease of Service/delivery/0.806\",\"Word of Mouth/suggestion/0.806\",\"Push to Buy/ad/1.075\",\"Push to Buy/advertisement/1.075\",\"Ease of Service/ease/1.075\",\"Ease of Service/easier/1.075\",\"Customer Review/happy/1.075\",\"Trust/reputation/1.075\",\"Trust/selection/1.075\",\"Word of Mouth/suggests/1.075\",\"Product Variation/variety/1.075\",\"Push to Buy/advertising/1.344\",\"Product Variation/availability/1.344\",\"Customer Review/satisfied/1.344\",\"Word of Mouth/suggesting/1.344\",\"Push to Buy/buyable/1.613\",\"Customer Review/community/1.613\",\"Ease of Service/convenience/1.613\",\"Word of Mouth/peer/1.613\",\"Price/spent/1.613\",\"Word of Mouth/suggest/1.613\",\"Customer Review/comment/1.882\",\"Influencers/influencers/1.882\",\"Influencers/influencer/2.151\",\"Customer Review/opinion/2.151\",\"Offers/offer/2.419\",\"Customer Review/quality/2.419\",\"Trend/trend/2.688\",\"Word of Mouth/recommendation/2.957\",\"Customer Review/satisfaction/2.957\",\"Price/price/3.495\",\"Ease of Service/easy/3.763\",\"Cost of Service/cost/4.032\",\"Customer Review/process/4.032\",\"Trust/content/6.72\",\"Customer Review/service/6.989\",\"Trust/trust/7.796\",\"Word of Mouth/review/8.065\",\"Push to Buy/ad\",\"Push to Buy/advertise\",\"Push to Buy/advertised\",\"Push to Buy/advertisement\",\"Push to Buy/advertising\",\"Influencers/ambassador\",\"Product Variation/availability\",\"Push to Buy/buyable\",\"Influencers/celebrity\",\"Customer Review/comment\",\"Customer Review/community\",\"Brand Value/compare\",\"Brand Value/compared\",\"Trust/content\",\"Ease of Service/convenience\",\"Cost of Service/cost\",\"Ease of Service/delivery\",\"Ease of Service/ease\",\"Ease of Service/easier\",\"Ease of Service/easy\",\"Influencers/endorse\",\"Trend/exclusive\",\"Customer Review/happy\",\"Influencers/influencer\",\"Influencers/influencers\",\"Offers/offer\",\"Customer Review/opinion\",\"Word of Mouth/peer\",\"Price/price\",\"Customer Review/process\",\"Offers/promotional\",\"Customer Review/quality\",\"Customer Review/rating\",\"Cost of Service/reasonable\",\"Word of Mouth/recommendation\",\"Trust/reliable\",\"Trust/reputation\",\"Word of Mouth/review\",\"Customer Review/satisfaction\",\"Customer Review/satisficers\",\"Customer Review/satisfied\",\"Customer Review/searchreferral\",\"Trust/selection\",\"Customer Review/service\",\"Ease of Service/shipping\",\"Price/spent\",\"Word of Mouth/suggest\",\"Word of Mouth/suggesting\",\"Word of Mouth/suggestion\",\"Word of Mouth/suggests\",\"Trend/trend\",\"Trust/trust\",\"Trust/trustworthy\",\"Product Variation/variety\",\"Word of Mouth/wordofmouth\",\"Brand Value\",\"Cost of Service\",\"Customer Review\",\"Ease of Service\",\"Influencers\",\"Offers\",\"Price\",\"Product Variation\",\"Push to Buy\",\"Trend\",\"Trust\",\"Word of Mouth\"],\"labels\":[\"0.269\",\"0.269\",\"0.269\",\"0.269\",\"0.269\",\"0.269\",\"0.269\",\"0.269\",\"0.269\",\"0.538\",\"0.538\",\"0.538\",\"0.538\",\"0.538\",\"0.538\",\"0.806\",\"0.806\",\"0.806\",\"0.806\",\"1.075\",\"1.075\",\"1.075\",\"1.075\",\"1.075\",\"1.075\",\"1.075\",\"1.075\",\"1.075\",\"1.344\",\"1.344\",\"1.344\",\"1.344\",\"1.613\",\"1.613\",\"1.613\",\"1.613\",\"1.613\",\"1.613\",\"1.882\",\"1.882\",\"2.151\",\"2.151\",\"2.419\",\"2.419\",\"2.688\",\"2.957\",\"2.957\",\"3.495\",\"3.763\",\"4.032\",\"4.032\",\"6.72\",\"6.989\",\"7.796\",\"8.065\",\"ad\",\"advertise\",\"advertised\",\"advertisement\",\"advertising\",\"ambassador\",\"availability\",\"buyable\",\"celebrity\",\"comment\",\"community\",\"compare\",\"compared\",\"content\",\"convenience\",\"cost\",\"delivery\",\"ease\",\"easier\",\"easy\",\"endorse\",\"exclusive\",\"happy\",\"influencer\",\"influencers\",\"offer\",\"opinion\",\"peer\",\"price\",\"process\",\"promotional\",\"quality\",\"rating\",\"reasonable\",\"recommendation\",\"reliable\",\"reputation\",\"review\",\"satisfaction\",\"satisficers\",\"satisfied\",\"searchreferral\",\"selection\",\"service\",\"shipping\",\"spent\",\"suggest\",\"suggesting\",\"suggestion\",\"suggests\",\"trend\",\"trust\",\"trustworthy\",\"variety\",\"wordofmouth\",\"Brand Value\",\"Cost of Service\",\"Customer Review\",\"Ease of Service\",\"Influencers\",\"Offers\",\"Price\",\"Product Variation\",\"Push to Buy\",\"Trend\",\"Trust\",\"Word of Mouth\"],\"marker\":{\"coloraxis\":\"coloraxis\",\"colors\":[0.269,0.269,0.269,0.269,0.269,0.269,0.269,0.269,0.269,0.538,0.538,0.538,0.538,0.538,0.538,0.806,0.806,0.806,0.806,1.075,1.075,1.075,1.075,1.075,1.075,1.075,1.075,1.075,1.344,1.344,1.344,1.344,1.613,1.613,1.613,1.613,1.613,1.613,1.882,1.882,2.151,2.151,2.419,2.419,2.688,2.957,2.957,3.495,3.763,4.032,4.032,6.719999999999999,6.989,7.796,8.065,1.075,0.538,0.269,1.075,1.344,0.538,1.344,1.613,0.806,1.882,1.613,0.269,0.806,6.719999999999999,1.613,4.032,0.806,1.075,1.075,3.763,0.538,0.538,1.075,2.151,1.882,2.419,2.151,1.613,3.495,4.032,0.538,2.419,0.269,0.269,2.957,0.269,1.075,8.065,2.957,0.269,1.344,0.269,1.075,6.989,0.538,1.613,1.613,1.344,0.806,1.075,2.688,7.796,0.269,1.075,0.269,0.6716251162790697,3.7966484538479426,3.706046657960347,2.256174520856821,1.5887149619611156,2.076768684477511,2.900703602192639,1.2244568003307152,1.1973554277984446,2.3294445133292006,6.300394559404791,4.659878818622478]},\"name\":\"\",\"parents\":[\"Push to Buy/advertised\",\"Brand Value/compare\",\"Customer Review/rating\",\"Cost of Service/reasonable\",\"Trust/reliable\",\"Customer Review/satisficers\",\"Customer Review/searchreferral\",\"Trust/trustworthy\",\"Word of Mouth/wordofmouth\",\"Push to Buy/advertise\",\"Influencers/ambassador\",\"Influencers/endorse\",\"Trend/exclusive\",\"Offers/promotional\",\"Ease of Service/shipping\",\"Influencers/celebrity\",\"Brand Value/compared\",\"Ease of Service/delivery\",\"Word of Mouth/suggestion\",\"Push to Buy/ad\",\"Push to Buy/advertisement\",\"Ease of Service/ease\",\"Ease of Service/easier\",\"Customer Review/happy\",\"Trust/reputation\",\"Trust/selection\",\"Word of Mouth/suggests\",\"Product Variation/variety\",\"Push to Buy/advertising\",\"Product Variation/availability\",\"Customer Review/satisfied\",\"Word of Mouth/suggesting\",\"Push to Buy/buyable\",\"Customer Review/community\",\"Ease of Service/convenience\",\"Word of Mouth/peer\",\"Price/spent\",\"Word of Mouth/suggest\",\"Customer Review/comment\",\"Influencers/influencers\",\"Influencers/influencer\",\"Customer Review/opinion\",\"Offers/offer\",\"Customer Review/quality\",\"Trend/trend\",\"Word of Mouth/recommendation\",\"Customer Review/satisfaction\",\"Price/price\",\"Ease of Service/easy\",\"Cost of Service/cost\",\"Customer Review/process\",\"Trust/content\",\"Customer Review/service\",\"Trust/trust\",\"Word of Mouth/review\",\"Push to Buy\",\"Push to Buy\",\"Push to Buy\",\"Push to Buy\",\"Push to Buy\",\"Influencers\",\"Product Variation\",\"Push to Buy\",\"Influencers\",\"Customer Review\",\"Customer Review\",\"Brand Value\",\"Brand Value\",\"Trust\",\"Ease of Service\",\"Cost of Service\",\"Ease of Service\",\"Ease of Service\",\"Ease of Service\",\"Ease of Service\",\"Influencers\",\"Trend\",\"Customer Review\",\"Influencers\",\"Influencers\",\"Offers\",\"Customer Review\",\"Word of Mouth\",\"Price\",\"Customer Review\",\"Offers\",\"Customer Review\",\"Customer Review\",\"Cost of Service\",\"Word of Mouth\",\"Trust\",\"Trust\",\"Word of Mouth\",\"Customer Review\",\"Customer Review\",\"Customer Review\",\"Customer Review\",\"Trust\",\"Customer Review\",\"Ease of Service\",\"Price\",\"Word of Mouth\",\"Word of Mouth\",\"Word of Mouth\",\"Word of Mouth\",\"Trend\",\"Trust\",\"Trust\",\"Product Variation\",\"Word of Mouth\",\"\",\"\",\"\",\"\",\"\",\"\",\"\",\"\",\"\",\"\",\"\",\"\"],\"values\":[0.269,0.269,0.269,0.269,0.269,0.269,0.269,0.269,0.269,0.538,0.538,0.538,0.538,0.538,0.538,0.806,0.806,0.806,0.806,1.075,1.075,1.075,1.075,1.075,1.075,1.075,1.075,1.075,1.344,1.344,1.344,1.344,1.613,1.613,1.613,1.613,1.613,1.613,1.882,1.882,2.151,2.151,2.419,2.419,2.688,2.957,2.957,3.495,3.763,4.032,4.032,6.72,6.989,7.796,8.065,1.075,0.538,0.269,1.075,1.344,0.538,1.344,1.613,0.806,1.882,1.613,0.269,0.806,6.72,1.613,4.032,0.806,1.075,1.075,3.763,0.538,0.538,1.075,2.151,1.882,2.419,2.151,1.613,3.495,4.032,0.538,2.419,0.269,0.269,2.957,0.269,1.075,8.065,2.957,0.269,1.344,0.269,1.075,6.989,0.538,1.613,1.613,1.344,0.806,1.075,2.688,7.796,0.269,1.075,0.269,1.0750000000000002,4.301,25.269,8.87,5.915,2.957,5.1080000000000005,2.419,5.914,3.226,17.204,17.742],\"type\":\"treemap\"}],                        {\"template\":{\"data\":{\"bar\":[{\"error_x\":{\"color\":\"#2a3f5f\"},\"error_y\":{\"color\":\"#2a3f5f\"},\"marker\":{\"line\":{\"color\":\"#E5ECF6\",\"width\":0.5},\"pattern\":{\"fillmode\":\"overlay\",\"size\":10,\"solidity\":0.2}},\"type\":\"bar\"}],\"barpolar\":[{\"marker\":{\"line\":{\"color\":\"#E5ECF6\",\"width\":0.5},\"pattern\":{\"fillmode\":\"overlay\",\"size\":10,\"solidity\":0.2}},\"type\":\"barpolar\"}],\"carpet\":[{\"aaxis\":{\"endlinecolor\":\"#2a3f5f\",\"gridcolor\":\"white\",\"linecolor\":\"white\",\"minorgridcolor\":\"white\",\"startlinecolor\":\"#2a3f5f\"},\"baxis\":{\"endlinecolor\":\"#2a3f5f\",\"gridcolor\":\"white\",\"linecolor\":\"white\",\"minorgridcolor\":\"white\",\"startlinecolor\":\"#2a3f5f\"},\"type\":\"carpet\"}],\"choropleth\":[{\"colorbar\":{\"outlinewidth\":0,\"ticks\":\"\"},\"type\":\"choropleth\"}],\"contour\":[{\"colorbar\":{\"outlinewidth\":0,\"ticks\":\"\"},\"colorscale\":[[0.0,\"#0d0887\"],[0.1111111111111111,\"#46039f\"],[0.2222222222222222,\"#7201a8\"],[0.3333333333333333,\"#9c179e\"],[0.4444444444444444,\"#bd3786\"],[0.5555555555555556,\"#d8576b\"],[0.6666666666666666,\"#ed7953\"],[0.7777777777777778,\"#fb9f3a\"],[0.8888888888888888,\"#fdca26\"],[1.0,\"#f0f921\"]],\"type\":\"contour\"}],\"contourcarpet\":[{\"colorbar\":{\"outlinewidth\":0,\"ticks\":\"\"},\"type\":\"contourcarpet\"}],\"heatmap\":[{\"colorbar\":{\"outlinewidth\":0,\"ticks\":\"\"},\"colorscale\":[[0.0,\"#0d0887\"],[0.1111111111111111,\"#46039f\"],[0.2222222222222222,\"#7201a8\"],[0.3333333333333333,\"#9c179e\"],[0.4444444444444444,\"#bd3786\"],[0.5555555555555556,\"#d8576b\"],[0.6666666666666666,\"#ed7953\"],[0.7777777777777778,\"#fb9f3a\"],[0.8888888888888888,\"#fdca26\"],[1.0,\"#f0f921\"]],\"type\":\"heatmap\"}],\"heatmapgl\":[{\"colorbar\":{\"outlinewidth\":0,\"ticks\":\"\"},\"colorscale\":[[0.0,\"#0d0887\"],[0.1111111111111111,\"#46039f\"],[0.2222222222222222,\"#7201a8\"],[0.3333333333333333,\"#9c179e\"],[0.4444444444444444,\"#bd3786\"],[0.5555555555555556,\"#d8576b\"],[0.6666666666666666,\"#ed7953\"],[0.7777777777777778,\"#fb9f3a\"],[0.8888888888888888,\"#fdca26\"],[1.0,\"#f0f921\"]],\"type\":\"heatmapgl\"}],\"histogram\":[{\"marker\":{\"pattern\":{\"fillmode\":\"overlay\",\"size\":10,\"solidity\":0.2}},\"type\":\"histogram\"}],\"histogram2d\":[{\"colorbar\":{\"outlinewidth\":0,\"ticks\":\"\"},\"colorscale\":[[0.0,\"#0d0887\"],[0.1111111111111111,\"#46039f\"],[0.2222222222222222,\"#7201a8\"],[0.3333333333333333,\"#9c179e\"],[0.4444444444444444,\"#bd3786\"],[0.5555555555555556,\"#d8576b\"],[0.6666666666666666,\"#ed7953\"],[0.7777777777777778,\"#fb9f3a\"],[0.8888888888888888,\"#fdca26\"],[1.0,\"#f0f921\"]],\"type\":\"histogram2d\"}],\"histogram2dcontour\":[{\"colorbar\":{\"outlinewidth\":0,\"ticks\":\"\"},\"colorscale\":[[0.0,\"#0d0887\"],[0.1111111111111111,\"#46039f\"],[0.2222222222222222,\"#7201a8\"],[0.3333333333333333,\"#9c179e\"],[0.4444444444444444,\"#bd3786\"],[0.5555555555555556,\"#d8576b\"],[0.6666666666666666,\"#ed7953\"],[0.7777777777777778,\"#fb9f3a\"],[0.8888888888888888,\"#fdca26\"],[1.0,\"#f0f921\"]],\"type\":\"histogram2dcontour\"}],\"mesh3d\":[{\"colorbar\":{\"outlinewidth\":0,\"ticks\":\"\"},\"type\":\"mesh3d\"}],\"parcoords\":[{\"line\":{\"colorbar\":{\"outlinewidth\":0,\"ticks\":\"\"}},\"type\":\"parcoords\"}],\"pie\":[{\"automargin\":true,\"type\":\"pie\"}],\"scatter\":[{\"marker\":{\"colorbar\":{\"outlinewidth\":0,\"ticks\":\"\"}},\"type\":\"scatter\"}],\"scatter3d\":[{\"line\":{\"colorbar\":{\"outlinewidth\":0,\"ticks\":\"\"}},\"marker\":{\"colorbar\":{\"outlinewidth\":0,\"ticks\":\"\"}},\"type\":\"scatter3d\"}],\"scattercarpet\":[{\"marker\":{\"colorbar\":{\"outlinewidth\":0,\"ticks\":\"\"}},\"type\":\"scattercarpet\"}],\"scattergeo\":[{\"marker\":{\"colorbar\":{\"outlinewidth\":0,\"ticks\":\"\"}},\"type\":\"scattergeo\"}],\"scattergl\":[{\"marker\":{\"colorbar\":{\"outlinewidth\":0,\"ticks\":\"\"}},\"type\":\"scattergl\"}],\"scattermapbox\":[{\"marker\":{\"colorbar\":{\"outlinewidth\":0,\"ticks\":\"\"}},\"type\":\"scattermapbox\"}],\"scatterpolar\":[{\"marker\":{\"colorbar\":{\"outlinewidth\":0,\"ticks\":\"\"}},\"type\":\"scatterpolar\"}],\"scatterpolargl\":[{\"marker\":{\"colorbar\":{\"outlinewidth\":0,\"ticks\":\"\"}},\"type\":\"scatterpolargl\"}],\"scatterternary\":[{\"marker\":{\"colorbar\":{\"outlinewidth\":0,\"ticks\":\"\"}},\"type\":\"scatterternary\"}],\"surface\":[{\"colorbar\":{\"outlinewidth\":0,\"ticks\":\"\"},\"colorscale\":[[0.0,\"#0d0887\"],[0.1111111111111111,\"#46039f\"],[0.2222222222222222,\"#7201a8\"],[0.3333333333333333,\"#9c179e\"],[0.4444444444444444,\"#bd3786\"],[0.5555555555555556,\"#d8576b\"],[0.6666666666666666,\"#ed7953\"],[0.7777777777777778,\"#fb9f3a\"],[0.8888888888888888,\"#fdca26\"],[1.0,\"#f0f921\"]],\"type\":\"surface\"}],\"table\":[{\"cells\":{\"fill\":{\"color\":\"#EBF0F8\"},\"line\":{\"color\":\"white\"}},\"header\":{\"fill\":{\"color\":\"#C8D4E3\"},\"line\":{\"color\":\"white\"}},\"type\":\"table\"}]},\"layout\":{\"annotationdefaults\":{\"arrowcolor\":\"#2a3f5f\",\"arrowhead\":0,\"arrowwidth\":1},\"autotypenumbers\":\"strict\",\"coloraxis\":{\"colorbar\":{\"outlinewidth\":0,\"ticks\":\"\"}},\"colorscale\":{\"diverging\":[[0,\"#8e0152\"],[0.1,\"#c51b7d\"],[0.2,\"#de77ae\"],[0.3,\"#f1b6da\"],[0.4,\"#fde0ef\"],[0.5,\"#f7f7f7\"],[0.6,\"#e6f5d0\"],[0.7,\"#b8e186\"],[0.8,\"#7fbc41\"],[0.9,\"#4d9221\"],[1,\"#276419\"]],\"sequential\":[[0.0,\"#0d0887\"],[0.1111111111111111,\"#46039f\"],[0.2222222222222222,\"#7201a8\"],[0.3333333333333333,\"#9c179e\"],[0.4444444444444444,\"#bd3786\"],[0.5555555555555556,\"#d8576b\"],[0.6666666666666666,\"#ed7953\"],[0.7777777777777778,\"#fb9f3a\"],[0.8888888888888888,\"#fdca26\"],[1.0,\"#f0f921\"]],\"sequentialminus\":[[0.0,\"#0d0887\"],[0.1111111111111111,\"#46039f\"],[0.2222222222222222,\"#7201a8\"],[0.3333333333333333,\"#9c179e\"],[0.4444444444444444,\"#bd3786\"],[0.5555555555555556,\"#d8576b\"],[0.6666666666666666,\"#ed7953\"],[0.7777777777777778,\"#fb9f3a\"],[0.8888888888888888,\"#fdca26\"],[1.0,\"#f0f921\"]]},\"colorway\":[\"#636efa\",\"#EF553B\",\"#00cc96\",\"#ab63fa\",\"#FFA15A\",\"#19d3f3\",\"#FF6692\",\"#B6E880\",\"#FF97FF\",\"#FECB52\"],\"font\":{\"color\":\"#2a3f5f\"},\"geo\":{\"bgcolor\":\"white\",\"lakecolor\":\"white\",\"landcolor\":\"#E5ECF6\",\"showlakes\":true,\"showland\":true,\"subunitcolor\":\"white\"},\"hoverlabel\":{\"align\":\"left\"},\"hovermode\":\"closest\",\"mapbox\":{\"style\":\"light\"},\"paper_bgcolor\":\"white\",\"plot_bgcolor\":\"#E5ECF6\",\"polar\":{\"angularaxis\":{\"gridcolor\":\"white\",\"linecolor\":\"white\",\"ticks\":\"\"},\"bgcolor\":\"#E5ECF6\",\"radialaxis\":{\"gridcolor\":\"white\",\"linecolor\":\"white\",\"ticks\":\"\"}},\"scene\":{\"xaxis\":{\"backgroundcolor\":\"#E5ECF6\",\"gridcolor\":\"white\",\"gridwidth\":2,\"linecolor\":\"white\",\"showbackground\":true,\"ticks\":\"\",\"zerolinecolor\":\"white\"},\"yaxis\":{\"backgroundcolor\":\"#E5ECF6\",\"gridcolor\":\"white\",\"gridwidth\":2,\"linecolor\":\"white\",\"showbackground\":true,\"ticks\":\"\",\"zerolinecolor\":\"white\"},\"zaxis\":{\"backgroundcolor\":\"#E5ECF6\",\"gridcolor\":\"white\",\"gridwidth\":2,\"linecolor\":\"white\",\"showbackground\":true,\"ticks\":\"\",\"zerolinecolor\":\"white\"}},\"shapedefaults\":{\"line\":{\"color\":\"#2a3f5f\"}},\"ternary\":{\"aaxis\":{\"gridcolor\":\"white\",\"linecolor\":\"white\",\"ticks\":\"\"},\"baxis\":{\"gridcolor\":\"white\",\"linecolor\":\"white\",\"ticks\":\"\"},\"bgcolor\":\"#E5ECF6\",\"caxis\":{\"gridcolor\":\"white\",\"linecolor\":\"white\",\"ticks\":\"\"}},\"title\":{\"x\":0.05},\"xaxis\":{\"automargin\":true,\"gridcolor\":\"white\",\"linecolor\":\"white\",\"ticks\":\"\",\"title\":{\"standoff\":15},\"zerolinecolor\":\"white\",\"zerolinewidth\":2},\"yaxis\":{\"automargin\":true,\"gridcolor\":\"white\",\"linecolor\":\"white\",\"ticks\":\"\",\"title\":{\"standoff\":15},\"zerolinecolor\":\"white\",\"zerolinewidth\":2}}},\"coloraxis\":{\"colorbar\":{\"title\":{\"text\":\"percentage\"}},\"colorscale\":[[0.0,\"rgb(255,255,217)\"],[0.125,\"rgb(237,248,177)\"],[0.25,\"rgb(199,233,180)\"],[0.375,\"rgb(127,205,187)\"],[0.5,\"rgb(65,182,196)\"],[0.625,\"rgb(29,145,192)\"],[0.75,\"rgb(34,94,168)\"],[0.875,\"rgb(37,52,148)\"],[1.0,\"rgb(8,29,88)\"]]},\"legend\":{\"tracegroupgap\":0},\"margin\":{\"t\":10,\"l\":10,\"r\":10,\"b\":10}},                        {\"responsive\": true}                    ).then(function(){\n",
       "                            \n",
       "var gd = document.getElementById('0483a37c-79fe-4287-83e6-c1de557c9a69');\n",
       "var x = new MutationObserver(function (mutations, observer) {{\n",
       "        var display = window.getComputedStyle(gd).display;\n",
       "        if (!display || display === 'none') {{\n",
       "            console.log([gd, 'removed!']);\n",
       "            Plotly.purge(gd);\n",
       "            observer.disconnect();\n",
       "        }}\n",
       "}});\n",
       "\n",
       "// Listen for the removal of the full notebook cells\n",
       "var notebookContainer = gd.closest('#notebook-container');\n",
       "if (notebookContainer) {{\n",
       "    x.observe(notebookContainer, {childList: true});\n",
       "}}\n",
       "\n",
       "// Listen for the clearing of the current output cell\n",
       "var outputEl = gd.closest('.output');\n",
       "if (outputEl) {{\n",
       "    x.observe(outputEl, {childList: true});\n",
       "}}\n",
       "\n",
       "                        })                };                });            </script>        </div>"
      ]
     },
     "metadata": {},
     "output_type": "display_data"
    },
    {
     "data": {
      "text/plain": [
       "<Figure size 432x288 with 0 Axes>"
      ]
     },
     "metadata": {},
     "output_type": "display_data"
    }
   ],
   "source": [
    "df['percentage']=(100.*df['frequency']/df['frequency'].sum()).round(3)\n",
    "fig=px.treemap(df, path=['label','word','percentage'],\n",
    "              values='percentage',\n",
    "              color='percentage',\n",
    "              color_continuous_scale='YlGnBu')\n",
    "\n",
    "fig.update_layout(margin={'t':10,'l':10,'r':10,'b':10})\n",
    "fig.show()\n",
    "plt.savefig(\"factors break down\", dpi=300)"
   ]
  },
  {
   "cell_type": "code",
   "execution_count": null,
   "id": "518fa32d",
   "metadata": {},
   "outputs": [],
   "source": []
  }
 ],
 "metadata": {
  "kernelspec": {
   "display_name": "Python 3 (ipykernel)",
   "language": "python",
   "name": "python3"
  },
  "language_info": {
   "codemirror_mode": {
    "name": "ipython",
    "version": 3
   },
   "file_extension": ".py",
   "mimetype": "text/x-python",
   "name": "python",
   "nbconvert_exporter": "python",
   "pygments_lexer": "ipython3",
   "version": "3.9.12"
  }
 },
 "nbformat": 4,
 "nbformat_minor": 5
}
